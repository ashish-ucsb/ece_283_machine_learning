{
 "cells": [
  {
   "cell_type": "code",
   "execution_count": 1,
   "metadata": {},
   "outputs": [],
   "source": [
    "import tensorflow as tf\n",
    "import numpy as np\n",
    "import matplotlib.pyplot as plt\n",
    "from matplotlib.colors import ListedColormap\n",
    "from sklearn.model_selection import train_test_split\n",
    "from sklearn.preprocessing import OneHotEncoder\n",
    "import os\n",
    "os.environ['CUDA_VISIBLE_DEVICES'] = '2'"
   ]
  },
  {
   "cell_type": "code",
   "execution_count": 2,
   "metadata": {},
   "outputs": [],
   "source": [
    "# Cov matrix\n",
    "def cov(lam1, lam2, theta):\n",
    "    d = np.matrix([[lam1, 0], [0, lam2]])\n",
    "    p = np.matrix([[np.cos(theta), -np.sin(theta)], [np.sin(theta), np.cos(theta)]])\n",
    "    invp = np.linalg.inv(p)\n",
    "    return np.linalg.multi_dot((p,d,invp))\n",
    "\n",
    "# Generating Data\n",
    "def gendata(data_pts):\n",
    "    \n",
    "    data_pts = data_pts/2\n",
    "    \n",
    "    # Class 0\n",
    "    cov0 = cov(2, 1, 0)\n",
    "    mean0 = [0,0]\n",
    "\n",
    "    data0 = np.random.multivariate_normal(mean0, cov0, data_pts)\n",
    "\n",
    "    # Class 1\n",
    "\n",
    "    cov1a = cov(2, 0.25, -3*np.pi/4)\n",
    "    mean1a = [-4,2]\n",
    "    cov1b = cov(3, 1, np.pi/4)\n",
    "    mean1b = [6,4]\n",
    "\n",
    "    data1a = np.random.multivariate_normal(mean1a, cov1a, (data_pts/3))\n",
    "    data1b = np.random.multivariate_normal(mean1b, cov1b, (data_pts - data_pts/3))\n",
    "    data1 = np.concatenate((data1a, data1b), axis=0)\n",
    "\n",
    "    data = np.concatenate((data0,data1), axis = 0)\n",
    "    labels = np.concatenate((np.zeros(data_pts), np.ones(data_pts)))\n",
    "\n",
    "    return data,labels\n",
    "\n",
    "def plotdata(x,y):\n",
    "    for i in range(y.shape[0]):\n",
    "        if(y[i] == 0):\n",
    "            plt.plot(x[i,0], x[i,1], 'o', color = 'red')\n",
    "        else:\n",
    "            plt.plot(x[i,0], x[i,1], 'x', color = 'blue')"
   ]
  },
  {
   "cell_type": "code",
   "execution_count": 3,
   "metadata": {},
   "outputs": [],
   "source": [
    "data_size = 2000\n",
    "# data, labels = gendata(data_size)\n",
    "# np.save('data_2', data)\n",
    "# np.save('labels_2',labels)"
   ]
  },
  {
   "cell_type": "code",
   "execution_count": 71,
   "metadata": {},
   "outputs": [
    {
     "name": "stdout",
     "output_type": "stream",
     "text": [
      "Training Data Size = 1280\n",
      "Testing  Data Size = 400\n",
      "Validation Data Size = 320\n"
     ]
    },
    {
     "data": {
      "image/png": "[encoded data removed]",
      "text/plain": [
       "<Figure size 432x288 with 1 Axes>"
      ]
     },
     "metadata": {
      "needs_background": "light"
     },
     "output_type": "display_data"
    }
   ],
   "source": [
    "data = np.load('data_2.npy')\n",
    "labels = np.load('labels_2.npy')\n",
    "x_train, x_test, y_train, y_test = train_test_split(data, labels, test_size=0.2, random_state=15)\n",
    "x_train, x_valid, y_train, y_valid = train_test_split(x_train, y_train, test_size=0.2, random_state=25)\n",
    "\n",
    "onehot_encoder = OneHotEncoder(sparse=False)\n",
    "y_train_onehot = onehot_encoder.fit_transform(y_train.reshape((-1,1)))\n",
    "y_test_onehot = onehot_encoder.fit_transform(y_test.reshape((-1,1)))\n",
    "y_valid_onehot = onehot_encoder.fit_transform(y_valid.reshape((-1,1)))\n",
    "\n",
    "print(\"Training Data Size = {}\".format(y_train.shape[0]))\n",
    "print(\"Testing  Data Size = {}\".format(y_test.shape[0]))\n",
    "print(\"Validation Data Size = {}\".format(y_valid.shape[0]))\n",
    "\n",
    "plotdata(data,labels)"
   ]
  },
  {
   "cell_type": "code",
   "execution_count": 87,
   "metadata": {},
   "outputs": [],
   "source": [
    "# Parameters\n",
    "learning_rate = 0.1\n",
    "epochs = 100\n",
    "batch_size = data_size/100\n",
    "display_step = 10\n",
    "\n",
    "# Network Parameters\n",
    "n_hidden_1 = 100 # 1st layer number of neurons\n",
    "#n_hidden_2 = 512 # 2nd layer number of neurons\n",
    "num_input = x_train.shape[1] # MNIST data input (img shape: 28*28)\n",
    "num_classes = 2 # MNIST total classes (0-9 digits)\n",
    "\n",
    "# tf Graph input\n",
    "X = tf.placeholder(\"float\", [None, num_input])\n",
    "Y = tf.placeholder(\"float\", [None, num_classes])"
   ]
  },
  {
   "cell_type": "code",
   "execution_count": 88,
   "metadata": {},
   "outputs": [],
   "source": [
    "weights = {\n",
    "    'h1': tf.Variable(tf.random_uniform([num_input, n_hidden_1])),\n",
    "#    'h2': tf.Variable(tf.random_uniform([n_hidden_1, n_hidden_2])),\n",
    "    'out': tf.Variable(tf.random_uniform([n_hidden_1, num_classes]))\n",
    "}\n",
    "biases = {\n",
    "    'b1': tf.Variable(tf.random_uniform([n_hidden_1])),\n",
    "#    'b2': tf.Variable(tf.random_uniform([n_hidden_2])),\n",
    "    'out': tf.Variable(tf.random_uniform([num_classes]))\n",
    "}"
   ]
  },
  {
   "cell_type": "code",
   "execution_count": 89,
   "metadata": {},
   "outputs": [],
   "source": [
    "def neural_net(x, nl):\n",
    "\n",
    "    layer_1 = tf.add(tf.matmul(x, weights['h1']), biases['b1'])\n",
    "    if(nl == 'relu'):\n",
    "        layer_1 = tf.nn.relu(layer_1)\n",
    "        print(\"Using RELU\")\n",
    "    else:\n",
    "        layer_1 = tf.nn.tanh(layer_1)\n",
    "        print(\"Using TanH\")\n",
    "\n",
    "#     layer_2 = tf.add(tf.matmul(layer_1, weights['h2']), biases['b2'])\n",
    "#     if(nl == 'relu'):\n",
    "#         layer_2 = tf.nn.relu(layer_2)\n",
    "#     else:\n",
    "#         layer_2 = tf.nn.tanh(layer_2)\n",
    "        \n",
    "    # Output fully connected layer with a neuron for each class\n",
    "    out_layer = tf.matmul(layer_1, weights['out']) + biases['out']\n",
    "    return out_layer"
   ]
  },
  {
   "cell_type": "code",
   "execution_count": 90,
   "metadata": {},
   "outputs": [
    {
     "name": "stdout",
     "output_type": "stream",
     "text": [
      "Using TanH\n"
     ]
    }
   ],
   "source": [
    "logits = neural_net(X, nl='tanh')\n",
    "\n",
    "# Define loss and optimizer\n",
    "loss_op = tf.reduce_mean(tf.nn.sigmoid_cross_entropy_with_logits(logits=logits, labels=Y))\n",
    "\n",
    "#L2 Regularization\n",
    "regularizers = tf.nn.l2_loss(weights['h1'])\n",
    "loss_op = tf.reduce_mean(loss_op + 0.01 * regularizers)\n",
    "\n",
    "optimizer = tf.train.AdamOptimizer(learning_rate=learning_rate).minimize(loss_op)\n",
    "\n",
    "# Evaluate model (with test logits, for dropout to be disabled)\n",
    "correct_pred = tf.equal(tf.argmax(logits, 1), tf.argmax(Y, 1))\n",
    "accuracy = tf.reduce_mean(tf.cast(correct_pred, tf.float32))\n",
    "\n",
    "# Initialize the variables (i.e. assign their default value)\n",
    "init = tf.global_variables_initializer()"
   ]
  },
  {
   "cell_type": "code",
   "execution_count": 91,
   "metadata": {},
   "outputs": [
    {
     "name": "stdout",
     "output_type": "stream",
     "text": [
      "Step 1, Training Loss= 11.2095 & Accuracy= 0.770 || Validation Loss= 10.4469 & Accuracy= 0.784\n",
      "Step 10, Training Loss= 0.5703 & Accuracy= 0.934 || Validation Loss= 0.5611 & Accuracy= 0.941\n",
      "Step 20, Training Loss= 0.3915 & Accuracy= 0.968 || Validation Loss= 0.4175 & Accuracy= 0.975\n",
      "Step 30, Training Loss= 0.3105 & Accuracy= 0.981 || Validation Loss= 0.3362 & Accuracy= 0.984\n",
      "Step 40, Training Loss= 0.2252 & Accuracy= 0.987 || Validation Loss= 0.2442 & Accuracy= 0.984\n",
      "Step 50, Training Loss= 0.1564 & Accuracy= 0.988 || Validation Loss= 0.1755 & Accuracy= 0.984\n",
      "Step 60, Training Loss= 0.1143 & Accuracy= 0.990 || Validation Loss= 0.1313 & Accuracy= 0.984\n",
      "Step 70, Training Loss= 0.0887 & Accuracy= 0.988 || Validation Loss= 0.1040 & Accuracy= 0.988\n",
      "Step 80, Training Loss= 0.0747 & Accuracy= 0.986 || Validation Loss= 0.0894 & Accuracy= 0.988\n",
      "Step 90, Training Loss= 0.0669 & Accuracy= 0.986 || Validation Loss= 0.0812 & Accuracy= 0.988\n",
      "Step 100, Training Loss= 0.0618 & Accuracy= 0.986 || Validation Loss= 0.0763 & Accuracy= 0.988\n",
      "Optimization Finished!\n",
      "Testing Accuracy : 0.980000019073\n"
     ]
    },
    {
     "data": {
      "image/png": "[encoded data removed]",
      "text/plain": [
       "<Figure size 432x288 with 1 Axes>"
      ]
     },
     "metadata": {
      "needs_background": "light"
     },
     "output_type": "display_data"
    }
   ],
   "source": [
    "l = []\n",
    "with tf.Session() as sess:\n",
    "\n",
    "    # Run the initializer\n",
    "    sess.run(init)\n",
    "\n",
    "    for step in range(1, epochs+1):\n",
    "        batch_x, batch_y = x_train, y_train_onehot\n",
    "        # Run optimization op (backprop)\n",
    "        sess.run(optimizer, feed_dict={X: batch_x, Y: batch_y})\n",
    "        if step % display_step == 0 or step == 1:\n",
    "            # Calculate batch loss and accuracy\n",
    "            loss, acc = sess.run([loss_op, accuracy], feed_dict={X: batch_x,\n",
    "                                                                 Y: batch_y})\n",
    "            l.append(acc)\n",
    "            valid_loss, valid_acc = sess.run([loss_op, accuracy], feed_dict={X: x_valid,\n",
    "                                                                             Y: y_valid_onehot})\n",
    "            print(\"Step \" + str(step) + \", Training Loss= \" + \\\n",
    "                  \"{:.4f}\".format(loss) + \" & Accuracy= \" + \\\n",
    "                  \"{:.3f}\".format(acc) + \" || Validation Loss= \" + \\\n",
    "                  \"{:.4f}\".format(valid_loss) + \" & Accuracy= \" + \\\n",
    "                  \"{:.3f}\".format(valid_acc))\n",
    "\n",
    "    print(\"Optimization Finished!\")\n",
    "\n",
    "    # Calculate accuracy for MNIST test images\n",
    "    test_acc = sess.run(accuracy, feed_dict={X: x_test,Y: y_test_onehot})\n",
    "    print(\"Testing Accuracy : {}\".format(test_acc))\n",
    "    \n",
    "    predictions = sess.run(tf.argmax(logits,1), feed_dict = {X: x_test})\n",
    "    \n",
    "    colors = ('red', 'blue', 'lightgreen', 'gray', 'cyan')\n",
    "    cmap = ListedColormap(colors[:len(np.unique(y_train))])\n",
    "    resolution = 0.02\n",
    "    # plot the decision surface\n",
    "    x1_min, x1_max = x_train[:, 0].min() - 1, x_train[:, 0].max() + 1\n",
    "    x2_min, x2_max = x_train[:, 1].min() - 1, x_train[:, 1].max() + 1\n",
    "    xx1, xx2 = np.meshgrid(np.arange(x1_min, x1_max, resolution),\n",
    "                           np.arange(x2_min, x2_max, resolution))\n",
    "    Z = sess.run(tf.argmax(logits,1), feed_dict = {X: (np.array([xx1.ravel(), xx2.ravel()]).T)})\n",
    "    Z = Z.reshape(xx1.shape)\n",
    "    plt.contourf(xx1, xx2, Z, alpha=0.4, cmap=cmap) # Displays classification region\n",
    "    plt.xlim(xx1.min(), xx1.max())\n",
    "    plt.ylim(xx2.min(), xx2.max())\n",
    "    plotdata(x_test,y_test)\n",
    "    plt.title(\"Testing Classification\")"
   ]
  },
  {
   "cell_type": "code",
   "execution_count": 94,
   "metadata": {},
   "outputs": [],
   "source": [
    "# # Z = sess.run(tf.argmax(logits,1), feed_dict = {X: (np.array([xx1.ravel(), xx2.ravel()]).T)})\n",
    "# Z = Z.reshape(xx1.shape)\n",
    "# plt.contourf(xx1, xx2, Z, alpha=0.4, cmap=cmap) # Displays classification region\n",
    "# plt.xlim(xx1.min(), xx1.max())\n",
    "# plt.ylim(xx2.min(), xx2.max())\n",
    "# plotdata(x_train,y_train)\n",
    "# plt.title(\"Training Classification\")\n",
    "# plt.show()"
   ]
  },
  {
   "cell_type": "code",
   "execution_count": 95,
   "metadata": {},
   "outputs": [
    {
     "data": {
      "image/png": "[encoded data removed]",
      "text/plain": [
       "<Figure size 432x288 with 1 Axes>"
      ]
     },
     "metadata": {
      "needs_background": "light"
     },
     "output_type": "display_data"
    }
   ],
   "source": [
    "plt.plot(l)\n",
    "plt.xlabel(\"Epochs (x10)\")\n",
    "plt.ylabel(\"Accuracy\")\n",
    "plt.show()"
   ]
  },
  {
   "cell_type": "code",
   "execution_count": null,
   "metadata": {},
   "outputs": [],
   "source": []
  }
 ],
 "metadata": {
  "kernelspec": {
   "display_name": "Python 3",
   "language": "python",
   "name": "python3"
  },
  "language_info": {
   "codemirror_mode": {
    "name": "ipython",
    "version": 2
   },
   "file_extension": ".py",
   "mimetype": "text/x-python",
   "name": "python",
   "nbconvert_exporter": "python",
   "pygments_lexer": "ipython2",
   "version": "2.7.12"
  }
 },
 "nbformat": 4,
 "nbformat_minor": 2
}
